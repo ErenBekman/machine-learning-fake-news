{
 "cells": [
  {
   "cell_type": "code",
   "execution_count": null,
   "id": "588db06d",
   "metadata": {},
   "outputs": [],
   "source": [
    "import os\n",
    "import sys\n",
    "import numpy as np\n",
    "import pandas as pd\n",
    "import seaborn as sns\n",
    "import matplotlib.pyplot as plt\n",
    "import re \n",
    "from nltk.corpus import stopwords \n",
    "from nltk.stem.porter import PorterStemmer\n",
    "from sklearn.feature_extraction.text import TfidfVectorizer\n",
    "from sklearn.model_selection import train_test_split \n",
    "from sklearn.linear_model import LogisticRegression\n",
    "from sklearn.metrics import accuracy_score \n",
    "from sklearn.neighbors import KNeighborsRegressor\n",
    "from sklearn.tree import DecisionTreeRegressor\n",
    "from sklearn.metrics import mean_squared_error"
   ]
  },
  {
   "cell_type": "code",
   "execution_count": null,
   "id": "f0c561d2",
   "metadata": {},
   "outputs": [],
   "source": [
    "pip install nltk"
   ]
  },
  {
   "cell_type": "code",
   "execution_count": null,
   "id": "9971151b",
   "metadata": {},
   "outputs": [],
   "source": [
    "import nltk\n",
    "from nltk.corpus import stopwords\n",
    "nltk.download('stopwords')\n",
    "print(stopwords.words('english')) #English Stopwords"
   ]
  },
  {
   "cell_type": "code",
   "execution_count": null,
   "id": "be132cf3",
   "metadata": {
    "scrolled": true
   },
   "outputs": [],
   "source": [
    "news_data = pd.read_csv('train.csv')\n",
    "news_data.head(15)\n",
    "# ilk 15 degeri gösterdik\n",
    "# 1 : Fake News, 0 : Real News"
   ]
  },
  {
   "cell_type": "markdown",
   "id": "6843760c",
   "metadata": {},
   "source": [
    "Basic Data Analysis"
   ]
  },
  {
   "cell_type": "code",
   "execution_count": null,
   "id": "40d0dbb6",
   "metadata": {},
   "outputs": [],
   "source": [
    "news_data.shape # Veri setimiz 20800 satır , 5 sütundan oluşuyor"
   ]
  },
  {
   "cell_type": "code",
   "execution_count": null,
   "id": "8bbe7a1b",
   "metadata": {},
   "outputs": [],
   "source": [
    "news_data.info() # veri seti hakkında bilgi edindik"
   ]
  },
  {
   "cell_type": "code",
   "execution_count": null,
   "id": "ef7c0d7b",
   "metadata": {},
   "outputs": [],
   "source": [
    "news_data.columns # kullancagımız veri sütünlarını yazdırdık"
   ]
  },
  {
   "cell_type": "code",
   "execution_count": null,
   "id": "ad24d84b",
   "metadata": {},
   "outputs": [],
   "source": [
    "news_data.describe().T"
   ]
  },
  {
   "cell_type": "code",
   "execution_count": null,
   "id": "8f97434f",
   "metadata": {},
   "outputs": [],
   "source": [
    "print(news_data['label'].value_counts()) # Ayrı ayrı degerlerini aldık"
   ]
  },
  {
   "cell_type": "code",
   "execution_count": null,
   "id": "0a12eeec",
   "metadata": {},
   "outputs": [],
   "source": [
    "news_data.isnull().sum() # eksik degerleri saptamamız gerekiyor"
   ]
  },
  {
   "cell_type": "code",
   "execution_count": null,
   "id": "910f1aa5",
   "metadata": {},
   "outputs": [],
   "source": [
    "news_data = news_data.fillna('') # Eksik degerleri doldurduk , kontrol edelim ;"
   ]
  },
  {
   "cell_type": "code",
   "execution_count": null,
   "id": "b9350aed",
   "metadata": {},
   "outputs": [],
   "source": [
    "news_data.isnull().sum()"
   ]
  },
  {
   "cell_type": "markdown",
   "id": "bdba15e4",
   "metadata": {},
   "source": [
    "Sınıflandırma yapmak için 'Author' ve 'Title' değerlerini kullanacağız."
   ]
  },
  {
   "cell_type": "code",
   "execution_count": null,
   "id": "ad3c7baf",
   "metadata": {},
   "outputs": [],
   "source": [
    "news_data['content'] = news_data['author']+' '+news_data['title'] # haber baslıgını ve yazarı birleştirdim."
   ]
  },
  {
   "cell_type": "code",
   "execution_count": null,
   "id": "84835f7b",
   "metadata": {},
   "outputs": [],
   "source": [
    "print(news_data['content']) # Şu şekilde gözükecek : "
   ]
  },
  {
   "cell_type": "markdown",
   "id": "ce2267c6",
   "metadata": {},
   "source": [
    "Şimdi verileri ve sonuçları(label) ayıracağız bu sayede train-test işlemini yapacağız."
   ]
  },
  {
   "cell_type": "code",
   "execution_count": null,
   "id": "09357d89",
   "metadata": {},
   "outputs": [],
   "source": [
    "X = news_data.drop(columns='label', axis=1)\n",
    "Y = news_data['label']"
   ]
  },
  {
   "cell_type": "code",
   "execution_count": null,
   "id": "8909796b",
   "metadata": {},
   "outputs": [],
   "source": [
    "X # Veri setimiz"
   ]
  },
  {
   "cell_type": "code",
   "execution_count": null,
   "id": "d67d0087",
   "metadata": {},
   "outputs": [],
   "source": [
    "Y # Label'larımız (sonuçlarımız)"
   ]
  },
  {
   "cell_type": "markdown",
   "id": "3383bbc7",
   "metadata": {},
   "source": [
    "Stemming İşlemi\n",
    "Kısacası : Bir kelimeyi köküne indirgemek, ön eki ve son eki kaldırmak.\n"
   ]
  },
  {
   "cell_type": "code",
   "execution_count": null,
   "id": "a7d4eacd",
   "metadata": {},
   "outputs": [],
   "source": [
    "port_stem = PorterStemmer()"
   ]
  },
  {
   "cell_type": "code",
   "execution_count": null,
   "id": "0b544475",
   "metadata": {},
   "outputs": [],
   "source": [
    "def stemming(content):\n",
    "    stemmed_content = re.sub('[^a-zA-Z]',' ',content)\n",
    "    stemmed_content = stemmed_content.lower()\n",
    "    stemmed_content = stemmed_content.split()\n",
    "    stemmed_content = [port_stem.stem(word) for word in stemmed_content if not word in stopwords.words('english')]\n",
    "    stemmed_content = ' '.join(stemmed_content)\n",
    "    return stemmed_content"
   ]
  },
  {
   "cell_type": "code",
   "execution_count": null,
   "id": "41b0e91e",
   "metadata": {},
   "outputs": [],
   "source": [
    "news_data['content'] = news_data['content'].apply(stemming)"
   ]
  },
  {
   "cell_type": "code",
   "execution_count": null,
   "id": "44559b6a",
   "metadata": {},
   "outputs": [],
   "source": [
    "news_data['content']"
   ]
  },
  {
   "cell_type": "code",
   "execution_count": null,
   "id": "2af88b69",
   "metadata": {},
   "outputs": [],
   "source": [
    "X = news_data['content'].values\n",
    "Y = news_data['label'].values"
   ]
  },
  {
   "cell_type": "code",
   "execution_count": null,
   "id": "59dd13f9",
   "metadata": {},
   "outputs": [],
   "source": [
    "X"
   ]
  },
  {
   "cell_type": "code",
   "execution_count": null,
   "id": "c9942488",
   "metadata": {},
   "outputs": [],
   "source": [
    "Y"
   ]
  },
  {
   "cell_type": "markdown",
   "id": "1f774e7c",
   "metadata": {},
   "source": [
    "Metinsel verileri sayısal verilere çevirme"
   ]
  },
  {
   "cell_type": "code",
   "execution_count": null,
   "id": "f97305af",
   "metadata": {},
   "outputs": [],
   "source": [
    "vectorizer = TfidfVectorizer()\n",
    "vectorizer.fit(X)\n",
    "X = vectorizer.transform(X)"
   ]
  },
  {
   "cell_type": "code",
   "execution_count": null,
   "id": "af30a0c5",
   "metadata": {},
   "outputs": [],
   "source": [
    "X"
   ]
  },
  {
   "cell_type": "markdown",
   "id": "081769f5",
   "metadata": {},
   "source": [
    "Training - Test işlemi\n",
    "Verileri eğitim ve test verilerine bölüyoruz ve bu şekilde öğrenme algoritmamızı oluşturuyoruz."
   ]
  },
  {
   "cell_type": "code",
   "execution_count": null,
   "id": "887726ab",
   "metadata": {},
   "outputs": [],
   "source": [
    "X_train, X_test, Y_train, Y_test = train_test_split(X,Y, test_size=0.2, stratify=Y, random_state=2)"
   ]
  },
  {
   "cell_type": "code",
   "execution_count": null,
   "id": "bbe45017",
   "metadata": {},
   "outputs": [],
   "source": [
    "print(X_train)\n",
    "print(\"--------------\")\n",
    "print(X_test)\n",
    "print(\"--------------\")\n",
    "print(Y_train)\n",
    "print(\"--------------\")\n",
    "print(Y_test)"
   ]
  },
  {
   "cell_type": "markdown",
   "id": "5908351c",
   "metadata": {},
   "source": [
    "Lojistik Regresyon Modelinin kurulması\n"
   ]
  },
  {
   "cell_type": "code",
   "execution_count": null,
   "id": "a3b46331",
   "metadata": {},
   "outputs": [],
   "source": [
    "model = LogisticRegression()"
   ]
  },
  {
   "cell_type": "code",
   "execution_count": null,
   "id": "2f415199",
   "metadata": {},
   "outputs": [],
   "source": [
    "model.fit(X_train, Y_train)"
   ]
  },
  {
   "cell_type": "markdown",
   "id": "387a6b3d",
   "metadata": {},
   "source": [
    "Training işlemi"
   ]
  },
  {
   "cell_type": "code",
   "execution_count": null,
   "id": "86970978",
   "metadata": {},
   "outputs": [],
   "source": [
    "X_train_prediction = model.predict(X_train)"
   ]
  },
  {
   "cell_type": "code",
   "execution_count": null,
   "id": "213b6d19",
   "metadata": {},
   "outputs": [],
   "source": [
    "X_train_prediction"
   ]
  },
  {
   "cell_type": "code",
   "execution_count": null,
   "id": "f6a10bc3",
   "metadata": {},
   "outputs": [],
   "source": [
    "training_data_accuracy = accuracy_score(X_train_prediction, Y_train)"
   ]
  },
  {
   "cell_type": "code",
   "execution_count": null,
   "id": "b3453033",
   "metadata": {},
   "outputs": [],
   "source": [
    " print('Training verilerinin doğruluk puanı :', training_data_accuracy)"
   ]
  },
  {
   "cell_type": "markdown",
   "id": "7a0a70e5",
   "metadata": {},
   "source": [
    "Testing işlemi"
   ]
  },
  {
   "cell_type": "code",
   "execution_count": null,
   "id": "8586fad4",
   "metadata": {},
   "outputs": [],
   "source": [
    "X_test_prediction = model.predict(X_test)\n",
    "testing_data_accuracy = accuracy_score(X_test_prediction, Y_test)"
   ]
  },
  {
   "cell_type": "code",
   "execution_count": null,
   "id": "c4816323",
   "metadata": {},
   "outputs": [],
   "source": [
    " print('Test verilerinin doğruluk puanı :', testing_data_accuracy)"
   ]
  },
  {
   "cell_type": "markdown",
   "id": "d46c4959",
   "metadata": {},
   "source": [
    "### ---------------------------------------------------------------------------------------------\n",
    "### Şimdi bu veri setini birde KNN (En yakın komşu) ile hesaplayalım.."
   ]
  },
  {
   "cell_type": "code",
   "execution_count": null,
   "id": "a6f8f303",
   "metadata": {},
   "outputs": [],
   "source": [
    "cart_model = DecisionTreeRegressor()"
   ]
  },
  {
   "cell_type": "code",
   "execution_count": null,
   "id": "845a9fb2",
   "metadata": {},
   "outputs": [],
   "source": [
    "cart_model"
   ]
  },
  {
   "cell_type": "code",
   "execution_count": null,
   "id": "3ddd973c",
   "metadata": {},
   "outputs": [],
   "source": [
    "cart_model.fit(X_train,Y_train)"
   ]
  },
  {
   "cell_type": "code",
   "execution_count": null,
   "id": "e5611838",
   "metadata": {},
   "outputs": [],
   "source": [
    "np.sqrt(mean_squared_error(Y_test,y_pred)) # Ortalama kare hatası regresyon kaybını bularak çalıştırdık."
   ]
  },
  {
   "cell_type": "code",
   "execution_count": null,
   "id": "20b37469",
   "metadata": {},
   "outputs": [],
   "source": [
    "cart_X_train_prediction = cart_model.predict(X_train)"
   ]
  },
  {
   "cell_type": "code",
   "execution_count": null,
   "id": "e636c774",
   "metadata": {},
   "outputs": [],
   "source": [
    "cart_X_train_prediction"
   ]
  },
  {
   "cell_type": "code",
   "execution_count": null,
   "id": "c1bf6401",
   "metadata": {},
   "outputs": [],
   "source": [
    "cart_training_data_accuracy =  accuracy_score(cart_X_train_prediction, Y_train)"
   ]
  },
  {
   "cell_type": "code",
   "execution_count": null,
   "id": "5ccd3508",
   "metadata": {},
   "outputs": [],
   "source": [
    " print('Training verilerinin doğruluk puanı :', cart_training_data_accuracy)"
   ]
  },
  {
   "cell_type": "markdown",
   "id": "416be7dc",
   "metadata": {},
   "source": [
    "#### Testing İşlemi"
   ]
  },
  {
   "cell_type": "code",
   "execution_count": null,
   "id": "27f29b44",
   "metadata": {},
   "outputs": [],
   "source": [
    "cart_X_test_prediction = cart_model.predict(X_test)\n",
    "cart_testing_data_accuracy = accuracy_score(cart_X_test_prediction,Y_test)"
   ]
  },
  {
   "cell_type": "code",
   "execution_count": null,
   "id": "dc9fc760",
   "metadata": {},
   "outputs": [],
   "source": [
    "print('Test verilerinin doğruluk puanı :', cart_testing_data_accuracy)"
   ]
  },
  {
   "cell_type": "markdown",
   "id": "a3899d6c",
   "metadata": {},
   "source": [
    "### ------------------------------------------------------------------"
   ]
  },
  {
   "cell_type": "code",
   "execution_count": null,
   "id": "f64ac7aa",
   "metadata": {},
   "outputs": [],
   "source": []
  }
 ],
 "metadata": {
  "kernelspec": {
   "display_name": "Python 3 (ipykernel)",
   "language": "python",
   "name": "python3"
  },
  "language_info": {
   "codemirror_mode": {
    "name": "ipython",
    "version": 3
   },
   "file_extension": ".py",
   "mimetype": "text/x-python",
   "name": "python",
   "nbconvert_exporter": "python",
   "pygments_lexer": "ipython3",
   "version": "3.9.7"
  }
 },
 "nbformat": 4,
 "nbformat_minor": 5
}
